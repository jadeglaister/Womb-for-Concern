{
 "cells": [
  {
   "cell_type": "markdown",
   "id": "0ded91d1",
   "metadata": {},
   "source": [
    "# Import libraries"
   ]
  },
  {
   "cell_type": "code",
   "execution_count": 1,
   "id": "6327440e",
   "metadata": {},
   "outputs": [
    {
     "name": "stderr",
     "output_type": "stream",
     "text": [
      "Matplotlib is building the font cache; this may take a moment.\n"
     ]
    }
   ],
   "source": [
    "import numpy as np\n",
    "import matplotlib.pyplot as plt\n",
    "import pandas as pd\n",
    "import csv"
   ]
  },
  {
   "cell_type": "markdown",
   "id": "8bc8182b",
   "metadata": {},
   "source": [
    "# Import air quality data"
   ]
  },
  {
   "cell_type": "code",
   "execution_count": null,
   "id": "3154e548",
   "metadata": {},
   "outputs": [
    {
     "name": "stdout",
     "output_type": "stream",
     "text": [
      "NpzFile 'pp_airquality.npz' with keys: X\n"
     ]
    }
   ],
   "source": [
    "pp_airquality = np.load('pp_airquality.npz', allow_pickle=True)\n",
    "\n",
    "pp_airquality = pp_airquality['X']"
   ]
  },
  {
   "cell_type": "code",
   "execution_count": 5,
   "id": "ecb4bbfb",
   "metadata": {},
   "outputs": [
    {
     "name": "stdout",
     "output_type": "stream",
     "text": [
      "[['AL' 'Baldwin' 274.5 ... 181.5 93.0 0.0]\n",
      " ['AL' 'Barbour' 32.0 ... 0.0 32.0 0.0]\n",
      " ['AL' 'Clay' 278.5 ... 183.0 95.5 0.0]\n",
      " ...\n",
      " ['WY' 'Sublette' 335.5 ... 316.0 15.5 0.0]\n",
      " ['WY' 'Sweetwater' 365.5 ... 0.0 0.0 365.5]\n",
      " ['WY' 'Teton' 342.5 ... 311.0 26.0 1.5]]\n"
     ]
    }
   ],
   "source": [
    "print(pp_airquality)"
   ]
  },
  {
   "cell_type": "markdown",
   "id": "9a769ff3",
   "metadata": {},
   "source": [
    "# Import natality data"
   ]
  },
  {
   "cell_type": "code",
   "execution_count": 76,
   "id": "d5f728c7",
   "metadata": {},
   "outputs": [],
   "source": [
    "pp_nat = np.load('/Users/jadeg/Documents/UW/Spring/Erdos/X_final_no_AQI_lbw.npz', allow_pickle=True)\n",
    "pp_nat = pp_nat['X']"
   ]
  },
  {
   "cell_type": "code",
   "execution_count": 77,
   "id": "a7e1bb17",
   "metadata": {},
   "outputs": [
    {
     "name": "stdout",
     "output_type": "stream",
     "text": [
      "[[2 2 2 ... 3 'Anchorage Munic' 'AK']\n",
      " [2 1 1 ... 3 'Anchorage Munic' 'AK']\n",
      " [2 1 1 ... 3 'Anchorage Munic' 'AK']\n",
      " ...\n",
      " [0 4 2 ... 3 'Kings' 'NY']\n",
      " [0 1 1 ... 3 'Queens' 'NY']\n",
      " [0 4 2 ... 3 'Queens' 'NY']]\n"
     ]
    }
   ],
   "source": [
    "print(pp_nat)"
   ]
  },
  {
   "cell_type": "markdown",
   "id": "d9f802e7",
   "metadata": {},
   "source": [
    "# add air quality as a column to every county name and state that matches it, count and drop all rows that do not have a county in the air quality file"
   ]
  },
  {
   "cell_type": "markdown",
   "id": "41fcbeec",
   "metadata": {},
   "source": [
    "## convert to dataframes"
   ]
  },
  {
   "cell_type": "code",
   "execution_count": 78,
   "id": "54f31e68",
   "metadata": {},
   "outputs": [],
   "source": [
    "aq_df = pd.DataFrame(pp_airquality)\n",
    "mat_df = pd.DataFrame(pp_nat)"
   ]
  },
  {
   "cell_type": "markdown",
   "id": "27599a29",
   "metadata": {},
   "source": [
    "## pull out state and county names from air quality"
   ]
  },
  {
   "cell_type": "code",
   "execution_count": 79,
   "id": "32939799",
   "metadata": {},
   "outputs": [],
   "source": [
    "aq_df[0] = aq_df[0].str.strip().str.upper()   # state abbrev\n",
    "aq_df[1] = aq_df[1].str.strip().str.lower()   # county name\n",
    "\n",
    "# find in maternal df\n",
    "mat_df.iloc[:, -1] = mat_df.iloc[:, -1].str.strip().str.upper()  # state abbrev (last col)\n",
    "mat_df.iloc[:, -2] = mat_df.iloc[:, -2].str.strip().str.lower()  # county name (second to last)\n"
   ]
  },
  {
   "cell_type": "code",
   "execution_count": 80,
   "id": "37923fa2",
   "metadata": {},
   "outputs": [],
   "source": [
    "aq_df.columns = ['state', 'county'] + [f'aq{i}' for i in range(1, aq_df.shape[1] - 1)]\n",
    "mat_df.columns = [f'mat{i}' for i in range(mat_df.shape[1] - 2)] + ['county', 'state']"
   ]
  },
  {
   "cell_type": "code",
   "execution_count": 81,
   "id": "2a3d9785",
   "metadata": {},
   "outputs": [
    {
     "name": "stdout",
     "output_type": "stream",
     "text": [
      "0          baldwin\n",
      "1          barbour\n",
      "2             clay\n",
      "3          colbert\n",
      "4           dekalb\n",
      "           ...    \n",
      "1097        platte\n",
      "1098      sheridan\n",
      "1099      sublette\n",
      "1100    sweetwater\n",
      "1101         teton\n",
      "Name: county, Length: 1102, dtype: object\n"
     ]
    }
   ],
   "source": [
    "print(aq_df['county'])"
   ]
  },
  {
   "cell_type": "code",
   "execution_count": 82,
   "id": "ec60f773",
   "metadata": {},
   "outputs": [
    {
     "name": "stdout",
     "output_type": "stream",
     "text": [
      "        mat0 mat1 mat2 mat3 mat4 mat5 mat6 mat7 mat8 mat9  ... mat69 mat70  \\\n",
      "0          2    2    2   22    1    2    2    1    1    1  ...     1     2   \n",
      "1          2    1    1   32    9    9    9    2    2    3  ...     2     2   \n",
      "2          2    1    1   20    9    9    9    2    2    3  ...     2     1   \n",
      "3          2    1    1   34    9    9    9    2    2    3  ...     2     1   \n",
      "4          2    1    1   27    9    9    9    2    2    3  ...     2     1   \n",
      "...      ...  ...  ...  ...  ...  ...  ...  ...  ...  ...  ...   ...   ...   \n",
      "3450061    0    4    2   21    1    0    0    1    1    2  ...     2     2   \n",
      "3450062    0    4    2   37    1    0    0    1    1    2  ...     9     9   \n",
      "3450063    0    4    2   32    1    0    0    1    1    1  ...     2     2   \n",
      "3450064    0    1    1   16    1    0    0    1    2    1  ...     2     2   \n",
      "3450065    0    4    2   36    1    0    0    1    1    1  ...     9     9   \n",
      "\n",
      "        mat71 mat72 mat73 mat74 mat75 mat76           county state  \n",
      "0           1     3     1     1     2     3  anchorage munic    AK  \n",
      "1           1     3     1     1     2     3  anchorage munic    AK  \n",
      "2           3     1     1     1     2     3  anchorage munic    AK  \n",
      "3           2     1     1     0     2     3  anchorage munic    AK  \n",
      "4           1     1     1     0     2     3  anchorage munic    AK  \n",
      "...       ...   ...   ...   ...   ...   ...              ...   ...  \n",
      "3450061     1     3     1     1     1     3            kings    NY  \n",
      "3450062     5     5     1     0     3     3            kings    NY  \n",
      "3450063     2     3     1     0     2     3            kings    NY  \n",
      "3450064     1     1     1     1     2     3           queens    NY  \n",
      "3450065     5     5     1     1     3     3           queens    NY  \n",
      "\n",
      "[3450066 rows x 79 columns]\n"
     ]
    }
   ],
   "source": [
    "print(mat_df)"
   ]
  },
  {
   "cell_type": "markdown",
   "id": "b127adfb",
   "metadata": {},
   "source": [
    "# drop other maternal outcome data"
   ]
  },
  {
   "cell_type": "code",
   "execution_count": 83,
   "id": "0bd943fe",
   "metadata": {},
   "outputs": [
    {
     "name": "stdout",
     "output_type": "stream",
     "text": [
      "79\n",
      "[40]\n",
      "[76]\n",
      "[31, 40, 75, 76]\n"
     ]
    }
   ],
   "source": [
    "labels = ['ocntypop', 'ubfacil', 'bfacil3', 'mager', 'msa_pop', 'rcnty_pop', 'rcity_pop', 'metrores', 'rectype', 'mrace', 'mracehisp', 'mar', 'dmeduc', 'meduc_rec', 'fagerpt', 'ufagecomb', 'fracerec', 'fracehisp', 'frace', 'priorlive', 'priordead', 'priorterm', 'lbo', 'tbo', 'mpcb', 'uprevis', 'wtgain', 'u_apncu', 'tobuse', 'cigs', 'drinks', 'urf_anemia', 'urf_card', 'urf_lung', 'urf_diab', 'urf_gen', 'urf_hydra', 'urf_hemo', 'urf_chyper', 'urf_phyper', 'urf_eclam', 'urf_incerv', 'urf_pre4000', 'urf_preterm', 'urf_renal', 'urf_rh', 'urf_uterine', 'urf_other', 'uop_amnio', 'uop_monit', 'uop_induc', 'uop_stiml', 'uop_tocol', 'uop_ultra', 'uop_other', 'uld_febr', 'uld_meco', 'uld_ruptr', 'uld_abrup', 'uld_prepla', 'uld_excbl', 'uld_seiz', 'uld_precip', 'uld_prolg', 'uld_dysfn', 'uld_breech', 'uld_cephal', 'uld_cord', 'uld_anest', 'uld_distr', 'uld_other', 'dmeth_rec', 'attend', 'dplural', 'sex', 'gestrec3', 'bwtr4', 'cntname','state']\n",
    "print(len(labels))\n",
    "exc_labels =  ['urf_anemia', 'urf_eclam', 'gestrec3', 'bwtr4']\n",
    "exc_indexes = [i for i, name in enumerate(labels) if name in exc_labels]\n",
    "eclam_idx = [i for i, name in enumerate(labels) if name=='urf_eclam']\n",
    "lw_idx = [i for i, name in enumerate(labels) if name=='bwtr4']\n",
    "print(eclam_idx)\n",
    "print(lw_idx)\n",
    "print(exc_indexes)"
   ]
  },
  {
   "cell_type": "code",
   "execution_count": 84,
   "id": "2b6803cf",
   "metadata": {},
   "outputs": [
    {
     "name": "stdout",
     "output_type": "stream",
     "text": [
      "        mat0 mat1 mat2 mat3 mat4 mat5 mat6 mat7 mat8 mat9  ... mat68 mat69  \\\n",
      "0          2    2    2   22    1    2    2    1    1    1  ...     2     1   \n",
      "1          2    1    1   32    9    9    9    2    2    3  ...     2     2   \n",
      "2          2    1    1   20    9    9    9    2    2    3  ...     2     2   \n",
      "3          2    1    1   34    9    9    9    2    2    3  ...     2     2   \n",
      "4          2    1    1   27    9    9    9    2    2    3  ...     2     2   \n",
      "...      ...  ...  ...  ...  ...  ...  ...  ...  ...  ...  ...   ...   ...   \n",
      "3450061    0    4    2   21    1    0    0    1    1    2  ...     2     2   \n",
      "3450062    0    4    2   37    1    0    0    1    1    2  ...     9     9   \n",
      "3450063    0    4    2   32    1    0    0    1    1    1  ...     2     2   \n",
      "3450064    0    1    1   16    1    0    0    1    2    1  ...     2     2   \n",
      "3450065    0    4    2   36    1    0    0    1    1    1  ...     9     9   \n",
      "\n",
      "        mat70 mat71 mat72 mat73 mat74 mat76           county state  \n",
      "0           2     1     3     1     1     3  anchorage munic    AK  \n",
      "1           2     1     3     1     1     3  anchorage munic    AK  \n",
      "2           1     3     1     1     1     3  anchorage munic    AK  \n",
      "3           1     2     1     1     0     3  anchorage munic    AK  \n",
      "4           1     1     1     1     0     3  anchorage munic    AK  \n",
      "...       ...   ...   ...   ...   ...   ...              ...   ...  \n",
      "3450061     2     1     3     1     1     3            kings    NY  \n",
      "3450062     9     5     5     1     0     3            kings    NY  \n",
      "3450063     2     2     3     1     0     3            kings    NY  \n",
      "3450064     2     1     1     1     1     3           queens    NY  \n",
      "3450065     9     5     5     1     1     3           queens    NY  \n",
      "\n",
      "[3450066 rows x 76 columns]\n"
     ]
    }
   ],
   "source": [
    "# cols_to_drop = ['mat31', 'mat75','mat76']\n",
    "cols_to_drop = ['mat31', 'mat75','mat40']\n",
    "matdf_dropped = mat_df.drop(columns=cols_to_drop)\n",
    "print(matdf_dropped)"
   ]
  },
  {
   "cell_type": "code",
   "execution_count": 85,
   "id": "b4461324",
   "metadata": {},
   "outputs": [],
   "source": [
    "merged = matdf_dropped.merge(aq_df, on=['state', 'county'], how='left')\n",
    "merged = merged.drop(columns=['state', 'county'])"
   ]
  },
  {
   "cell_type": "code",
   "execution_count": 86,
   "id": "5908cb0e",
   "metadata": {},
   "outputs": [
    {
     "name": "stdout",
     "output_type": "stream",
     "text": [
      "        mat0 mat1 mat2 mat3 mat4 mat5 mat6 mat7 mat8 mat9  ...  aq6  aq7  \\\n",
      "0          2    2    2   22    1    2    2    1    1    1  ...  NaN  NaN   \n",
      "1          2    1    1   32    9    9    9    2    2    3  ...  NaN  NaN   \n",
      "2          2    1    1   20    9    9    9    2    2    3  ...  NaN  NaN   \n",
      "3          2    1    1   34    9    9    9    2    2    3  ...  NaN  NaN   \n",
      "4          2    1    1   27    9    9    9    2    2    3  ...  NaN  NaN   \n",
      "...      ...  ...  ...  ...  ...  ...  ...  ...  ...  ...  ...  ...  ...   \n",
      "3450061    0    4    2   21    1    0    0    1    1    2  ...  0.0  0.0   \n",
      "3450062    0    4    2   37    1    0    0    1    1    2  ...  0.0  0.0   \n",
      "3450063    0    4    2   32    1    0    0    1    1    1  ...  0.0  0.0   \n",
      "3450064    0    1    1   16    1    0    0    1    2    1  ...  0.0  0.0   \n",
      "3450065    0    4    2   36    1    0    0    1    1    1  ...  0.0  0.0   \n",
      "\n",
      "           aq8   aq9  aq10   aq11  aq12  aq13   aq14 aq15  \n",
      "0          NaN   NaN   NaN    NaN   NaN   NaN    NaN  NaN  \n",
      "1          NaN   NaN   NaN    NaN   NaN   NaN    NaN  NaN  \n",
      "2          NaN   NaN   NaN    NaN   NaN   NaN    NaN  NaN  \n",
      "3          NaN   NaN   NaN    NaN   NaN   NaN    NaN  NaN  \n",
      "4          NaN   NaN   NaN    NaN   NaN   NaN    NaN  NaN  \n",
      "...        ...   ...   ...    ...   ...   ...    ...  ...  \n",
      "3450061  136.5  65.0  17.5  246.5   0.0   0.0  112.5  4.5  \n",
      "3450062  136.5  65.0  17.5  246.5   0.0   0.0  112.5  4.5  \n",
      "3450063  136.5  65.0  17.5  246.5   0.0   0.0  112.5  4.5  \n",
      "3450064  170.0  80.5  55.0    0.0  85.0  32.0  248.0  0.0  \n",
      "3450065  170.0  80.5  55.0    0.0  85.0  32.0  248.0  0.0  \n",
      "\n",
      "[3450066 rows x 89 columns]\n"
     ]
    }
   ],
   "source": [
    "print(merged)"
   ]
  },
  {
   "cell_type": "markdown",
   "id": "1997af40",
   "metadata": {},
   "source": [
    "# count unmatched rows"
   ]
  },
  {
   "cell_type": "code",
   "execution_count": 87,
   "id": "35d8dc94",
   "metadata": {},
   "outputs": [
    {
     "name": "stdout",
     "output_type": "stream",
     "text": [
      "Number of unmatched rows: 203148\n"
     ]
    }
   ],
   "source": [
    "missing_matches = merged[[col for col in merged.columns if col.startswith('aq')]].isnull().any(axis=1).sum()\n",
    "print(f\"Number of unmatched rows: {missing_matches}\")"
   ]
  },
  {
   "cell_type": "markdown",
   "id": "b6e1afc8",
   "metadata": {},
   "source": [
    "# Drop rows with missing air quality data"
   ]
  },
  {
   "cell_type": "code",
   "execution_count": 90,
   "id": "8e3c2fe7",
   "metadata": {},
   "outputs": [],
   "source": [
    "merged_clean = merged.dropna(subset=[col for col in merged.columns if col.startswith('aq')])"
   ]
  },
  {
   "cell_type": "code",
   "execution_count": 91,
   "id": "c2a7b789",
   "metadata": {},
   "outputs": [
    {
     "name": "stdout",
     "output_type": "stream",
     "text": [
      "        mat0 mat1 mat2 mat3 mat4 mat5 mat6 mat7 mat8 mat9  ...  aq6  aq7  \\\n",
      "5609       1    1    1   18    1    1    3    1    1    2  ...  0.0  0.0   \n",
      "5610       3    1    1   18    9    9    9    2    2    2  ...  0.0  0.0   \n",
      "5611       3    1    1   30    1    3    3    1    1    2  ...  0.0  0.0   \n",
      "5612       3    1    1   20    1    3    3    1    1    2  ...  0.0  0.0   \n",
      "5613       2    1    1   30    1    2    3    1    1    2  ...  0.5  0.0   \n",
      "...      ...  ...  ...  ...  ...  ...  ...  ...  ...  ...  ...  ...  ...   \n",
      "3450061    0    4    2   21    1    0    0    1    1    2  ...  0.0  0.0   \n",
      "3450062    0    4    2   37    1    0    0    1    1    2  ...  0.0  0.0   \n",
      "3450063    0    4    2   32    1    0    0    1    1    1  ...  0.0  0.0   \n",
      "3450064    0    1    1   16    1    0    0    1    2    1  ...  0.0  0.0   \n",
      "3450065    0    4    2   36    1    0    0    1    1    1  ...  0.0  0.0   \n",
      "\n",
      "           aq8    aq9  aq10   aq11  aq12   aq13   aq14  aq15  \n",
      "5609     171.5  103.0  71.5    5.0   0.0   33.5  288.0  39.0  \n",
      "5610     121.5   71.0  46.5    0.0   0.0  167.5  115.5   0.0  \n",
      "5611     121.5   71.0  46.5    0.0   0.0  167.5  115.5   0.0  \n",
      "5612     121.5   71.0  46.5    0.0   0.0  167.5  115.5   0.0  \n",
      "5613     222.5   83.5  44.0   19.5   0.0  177.5   94.5  69.0  \n",
      "...        ...    ...   ...    ...   ...    ...    ...   ...  \n",
      "3450061  136.5   65.0  17.5  246.5   0.0    0.0  112.5   4.5  \n",
      "3450062  136.5   65.0  17.5  246.5   0.0    0.0  112.5   4.5  \n",
      "3450063  136.5   65.0  17.5  246.5   0.0    0.0  112.5   4.5  \n",
      "3450064  170.0   80.5  55.0    0.0  85.0   32.0  248.0   0.0  \n",
      "3450065  170.0   80.5  55.0    0.0  85.0   32.0  248.0   0.0  \n",
      "\n",
      "[3246918 rows x 89 columns]\n",
      "(3246918, 89)\n"
     ]
    }
   ],
   "source": [
    "print(merged_clean)\n",
    "print(np.shape(merged_clean))"
   ]
  },
  {
   "cell_type": "markdown",
   "id": "c6beb77d",
   "metadata": {},
   "source": [
    "# Drop column with eclampsia, save as Y"
   ]
  },
  {
   "cell_type": "code",
   "execution_count": 92,
   "id": "04baf722",
   "metadata": {},
   "outputs": [],
   "source": [
    "#df_eclam = merged_clean['mat40']\n",
    "#Y_eclam = df_eclam.to_numpy()\n",
    "#np.savez_compressed('Yeclam.npz', X=Y_eclam)\n",
    "df_lw = merged_clean['mat76']\n",
    "Y_lw = df_lw.to_numpy()\n",
    "np.savez_compressed('Y_lw.npz',X=Y_lw)"
   ]
  },
  {
   "cell_type": "code",
   "execution_count": 93,
   "id": "6a2d5187",
   "metadata": {},
   "outputs": [],
   "source": [
    "#merged_clean_noeclam = merged_clean.drop(columns=['mat40'])\n",
    "merged_clean_noeclam = merged_clean.drop(columns=['mat76'])"
   ]
  },
  {
   "cell_type": "code",
   "execution_count": 94,
   "id": "adc7d65c",
   "metadata": {},
   "outputs": [
    {
     "name": "stdout",
     "output_type": "stream",
     "text": [
      "(3246918,)\n"
     ]
    }
   ],
   "source": [
    "print(np.shape(Y_lw))"
   ]
  },
  {
   "cell_type": "markdown",
   "id": "87c84b7d",
   "metadata": {},
   "source": [
    "# convert to numpy"
   ]
  },
  {
   "cell_type": "code",
   "execution_count": 95,
   "id": "a96cb3cb",
   "metadata": {},
   "outputs": [],
   "source": [
    "X_mat_aqi = merged_clean_noeclam.to_numpy()"
   ]
  },
  {
   "cell_type": "code",
   "execution_count": 96,
   "id": "b0f2f429",
   "metadata": {},
   "outputs": [
    {
     "name": "stdout",
     "output_type": "stream",
     "text": [
      "[[1 1 1 ... 33.5 288.0 39.0]\n",
      " [3 1 1 ... 167.5 115.5 0.0]\n",
      " [3 1 1 ... 167.5 115.5 0.0]\n",
      " ...\n",
      " [0 4 2 ... 0.0 112.5 4.5]\n",
      " [0 1 1 ... 32.0 248.0 0.0]\n",
      " [0 4 2 ... 32.0 248.0 0.0]]\n",
      "(3246918, 88)\n"
     ]
    }
   ],
   "source": [
    "print(X_mat_aqi)\n",
    "print(np.shape(X_mat_aqi))"
   ]
  },
  {
   "cell_type": "markdown",
   "id": "d2bb096a",
   "metadata": {},
   "source": [
    "# Make X dataframe with just mat, no aqi"
   ]
  },
  {
   "cell_type": "code",
   "execution_count": 97,
   "id": "67b95197",
   "metadata": {},
   "outputs": [],
   "source": [
    "mat_only = merged_clean.drop(columns=[col for col in merged_clean.columns if col.startswith('aq')])"
   ]
  },
  {
   "cell_type": "code",
   "execution_count": 98,
   "id": "1ef4ceab",
   "metadata": {},
   "outputs": [],
   "source": [
    "X_mat_only = mat_only.to_numpy()"
   ]
  },
  {
   "cell_type": "code",
   "execution_count": 99,
   "id": "fd105504",
   "metadata": {},
   "outputs": [
    {
     "name": "stdout",
     "output_type": "stream",
     "text": [
      "[[1 1 1 ... 1 0 3]\n",
      " [3 1 1 ... 1 1 3]\n",
      " [3 1 1 ... 1 1 3]\n",
      " ...\n",
      " [0 4 2 ... 1 0 3]\n",
      " [0 1 1 ... 1 1 3]\n",
      " [0 4 2 ... 1 1 3]]\n",
      "(3246918, 74)\n"
     ]
    }
   ],
   "source": [
    "print(X_mat_only)\n",
    "print(np.shape(X_mat_only))"
   ]
  },
  {
   "cell_type": "markdown",
   "id": "f18bba29",
   "metadata": {},
   "source": [
    "# Save as .npz"
   ]
  },
  {
   "cell_type": "code",
   "execution_count": 100,
   "id": "f4a4da31",
   "metadata": {},
   "outputs": [],
   "source": [
    "np.savez_compressed('X_mat_aqi_lw.npz', X=X_mat_aqi)"
   ]
  },
  {
   "cell_type": "code",
   "execution_count": 101,
   "id": "9ed7a58f",
   "metadata": {},
   "outputs": [],
   "source": [
    "np.savez_compressed('X_mat_only_lw.npz', X=X_mat_aqi)"
   ]
  },
  {
   "cell_type": "markdown",
   "id": "9ab7af7f",
   "metadata": {},
   "source": []
  }
 ],
 "metadata": {
  "kernelspec": {
   "display_name": "base",
   "language": "python",
   "name": "python3"
  },
  "language_info": {
   "codemirror_mode": {
    "name": "ipython",
    "version": 3
   },
   "file_extension": ".py",
   "mimetype": "text/x-python",
   "name": "python",
   "nbconvert_exporter": "python",
   "pygments_lexer": "ipython3",
   "version": "3.11.5"
  }
 },
 "nbformat": 4,
 "nbformat_minor": 5
}
