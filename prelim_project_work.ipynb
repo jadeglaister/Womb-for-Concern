{
 "cells": [
  {
   "cell_type": "code",
   "execution_count": 1,
   "id": "98766a46",
   "metadata": {},
   "outputs": [],
   "source": [
    "import numpy as np\n",
    "import matplotlib.pyplot as plt\n",
    "import pandas as pd\n",
    "import csv"
   ]
  },
  {
   "cell_type": "markdown",
   "id": "6779b60a",
   "metadata": {},
   "source": [
    "## Load the file as npz for size reasons"
   ]
  },
  {
   "cell_type": "code",
   "execution_count": 2,
   "id": "38244cda",
   "metadata": {},
   "outputs": [],
   "source": [
    "natality = np.load('mat2004_data_file.npz', allow_pickle=True)"
   ]
  },
  {
   "cell_type": "code",
   "execution_count": 5,
   "id": "5ad46a77",
   "metadata": {},
   "outputs": [
    {
     "name": "stdout",
     "output_type": "stream",
     "text": [
      "['X']\n"
     ]
    }
   ],
   "source": [
    "print(natality.files)\n",
    "\n",
    "us_natality2004 = natality['X']"
   ]
  },
  {
   "cell_type": "code",
   "execution_count": 6,
   "id": "4ac6294b",
   "metadata": {},
   "outputs": [
    {
     "name": "stdout",
     "output_type": "stream",
     "text": [
      "<class 'numpy.ndarray'>\n",
      "[['S' '1' '2004' ... '' '' '']\n",
      " ['S' '1' '2004' ... '' '' '']\n",
      " ['S' '1' '2004' ... '' '' '']\n",
      " ['S' '1' '2004' ... '' '' '']\n",
      " ['S' '1' '2004' ... '' '' '']]\n"
     ]
    }
   ],
   "source": [
    "# Display the first few rows of the data frame\n",
    "print(type(us_natality2004))\n",
    "print(us_natality2004[:5])"
   ]
  },
  {
   "cell_type": "code",
   "execution_count": 7,
   "id": "a3bbc355",
   "metadata": {},
   "outputs": [
    {
     "name": "stdout",
     "output_type": "stream",
     "text": [
      "(4118907, 337)\n",
      "['S' '1' '2004' '1' '7' 'AK' 'AK' '999' '9' '' '2' '2' '' '' '34' '10' '5'\n",
      " '' 'AK' '1' 'AK' 'AK' '999' '99999' '0' '9999' '9' '9' '9' '2' '1' '1' ''\n",
      " '1' '1' '' '0' '6' '1' '' '' '16' '5' '' '99' '' '33' '5' '' '' '1' '0'\n",
      " '6' '1' '0' '0' '0' '1' '1' '1' '1' '' '' '' '' '2' '1' '1' '10' '6' ''\n",
      " '42' '7' '3' '' '' '' '' '2' '0' '0' '' '2' '0' '0' '' '' '' '' '' '' ''\n",
      " '' '' '2' '2' '2' '2' '2' '2' '2' '2' '2' '2' '2' '2' '2' '2' '2' '2' '2'\n",
      " '' '' '' '' '2' '2' '2' '2' '2' '1' '2' '' '' '' '' '' '' '' '' '' '' ''\n",
      " '' '2' '2' '2' '2' '2' '2' '2' '2' '2' '2' '2' '2' '2' '2' '2' '2' '' ''\n",
      " '' '' '' '1' '2' '2' '2' '2' '2' '1' '4' '9' '4' '1' '' 'M' '' '4' '4'\n",
      " '2003' '39' '39' '6' '2' '' '' '3289' '7' '3' '' '' '' '' '' '' '' '2'\n",
      " '2' '2' '2' '2' '2' '2' '2' '2' '' '' '' '' '' '' '' '' '' '' '' '' '2'\n",
      " '2' '2' '2' '2' '2' '2' '2' '2' '2' '2' '2' '2' '2' '2' '2' '2' '2' '2'\n",
      " '2' '2' '2' '1' '1' '0' '1' '1' '0' '1' '1' '1' '0' '1' '0' '1' '1' '1'\n",
      " '1' '1' '1' '1' '1' '1' '1' '1' '1' '1' '1' '1' '1' '1' '1' '1' '1' '1'\n",
      " '1' '1' '1' '1' '1' '1' '1' '1' '1' '1' '1' '1' '1' '1' '1' '1' '1' '1'\n",
      " '1' '1' '1' '1' '1' '1' '1' '1' '1' '1' '1' '1' '1' '1' '1' '1' '1' '1'\n",
      " '1' '1' '1' '1' '1' '1' '1' '1' '1' '1' '1' '1' '1' '1' '1' '1' '1' '1'\n",
      " '1' '1' '1' '' '' '' '' '' '' '' '' '' '' '' '' '' '' '' '']\n"
     ]
    }
   ],
   "source": [
    "print(us_natality2004.shape)\n",
    "print(us_natality2004[1])"
   ]
  },
  {
   "cell_type": "code",
   "execution_count": 10,
   "id": "8bcee0cb",
   "metadata": {},
   "outputs": [
    {
     "name": "stdout",
     "output_type": "stream",
     "text": [
      "['40' '39' '41' ... '41' '38' '99']\n"
     ]
    }
   ],
   "source": [
    "print(us_natality2004[:,173])"
   ]
  },
  {
   "cell_type": "code",
   "execution_count": 11,
   "id": "7cbb4472",
   "metadata": {},
   "outputs": [
    {
     "name": "stdout",
     "output_type": "stream",
     "text": [
      "['20' '999' '20' ... '47' '81' '81']\n"
     ]
    }
   ],
   "source": [
    "# OCNTYFIPS is column index 7 which identifies the county in the state\n",
    "# column index 7 gives county code within state\n",
    "# column index 5 goves the state where the birth occurred - OSTATE\n",
    "# to get full identifier, need state and county code\n",
    "\n",
    "print(us_natality2004[:,7])"
   ]
  },
  {
   "cell_type": "markdown",
   "metadata": {},
   "source": [
    "## Code to associate a county name to a state abbreviation and county code"
   ]
  },
  {
   "cell_type": "code",
   "execution_count": 63,
   "id": "1e05b6bb",
   "metadata": {},
   "outputs": [],
   "source": [
    "state_col = us_natality2004[:, 5]  # column with state abbreviation\n",
    "county_col = us_natality2004[:, 7]  # column with county code"
   ]
  },
  {
   "cell_type": "code",
   "execution_count": 64,
   "id": "51ce3b6b",
   "metadata": {},
   "outputs": [
    {
     "ename": "KeyboardInterrupt",
     "evalue": "",
     "output_type": "error",
     "traceback": [
      "\u001b[0;31m---------------------------------------------------------------------------\u001b[0m",
      "\u001b[0;31mKeyboardInterrupt\u001b[0m                         Traceback (most recent call last)",
      "Cell \u001b[0;32mIn[64], line 2\u001b[0m\n\u001b[1;32m      1\u001b[0m \u001b[38;5;66;03m# Make the county codes zero-padded strings\u001b[39;00m\n\u001b[0;32m----> 2\u001b[0m county_codes \u001b[38;5;241m=\u001b[39m np\u001b[38;5;241m.\u001b[39mchar\u001b[38;5;241m.\u001b[39mzfill(county_col\u001b[38;5;241m.\u001b[39mastype(\u001b[38;5;28mstr\u001b[39m), \u001b[38;5;241m3\u001b[39m)\n\u001b[1;32m      3\u001b[0m state_abbrs \u001b[38;5;241m=\u001b[39m np\u001b[38;5;241m.\u001b[39mchar\u001b[38;5;241m.\u001b[39mupper(state_col\u001b[38;5;241m.\u001b[39mastype(\u001b[38;5;28mstr\u001b[39m))\n",
      "\u001b[0;31mKeyboardInterrupt\u001b[0m: "
     ]
    }
   ],
   "source": [
    "# Make the county codes zero-padded strings\n",
    "county_codes = np.char.zfill(county_col.astype(str), 3)\n",
    "state_abbrs = np.char.upper(state_col.astype(str))"
   ]
  },
  {
   "cell_type": "code",
   "execution_count": null,
   "id": "4aacaada",
   "metadata": {},
   "outputs": [],
   "source": [
    "# Load full county FIPS-to-name mapping\n",
    "county_df = pd.read_csv(\n",
    "    \"https://raw.githubusercontent.com/kjhealy/fips-codes/master/county_fips_master.csv\",\n",
    "    dtype={\"state_fips\": str, \"county_fips\": str, \"fips\": str},\n",
    "    encoding=\"iso-8859-1\"\n",
    ")"
   ]
  },
  {
   "cell_type": "code",
   "execution_count": null,
   "id": "1dc251b5",
   "metadata": {},
   "outputs": [],
   "source": [
    "# Load the FIPS-to-county-name map\n",
    "fips_df = pd.read_csv(\n",
    "    \"https://raw.githubusercontent.com/kjhealy/fips-codes/master/county_fips_master.csv\",\n",
    "    #dtype={'state': str, 'county_fips': str},\n",
    "    #usecols=['state', 'county_fips', 'county_name'],\n",
    "    dtype={'state': str, 'fips': str, 'county': str},\n",
    "    usecols=['state', 'fips', 'county'],  \n",
    "    encoding=\"iso-8859-1\"\n",
    ")\n",
    "\n",
    "fips_df = fips_df.rename(columns={'fips': 'county_fips', 'county': 'county_name'})"
   ]
  },
  {
   "cell_type": "code",
   "execution_count": null,
   "metadata": {},
   "outputs": [],
   "source": [
    "# make a dictionary for (state_abbr, county_code) -> county_name\n",
    "county_dict = {\n",
    "    (row.state.upper(), row.county_fips.zfill(3)): row.county_name\n",
    "    for row in county_df.itertuples()\n",
    "}\n"
   ]
  },
  {
   "cell_type": "code",
   "execution_count": null,
   "id": "6913a22e",
   "metadata": {},
   "outputs": [],
   "source": [
    "# Vectorized lookup using list\n",
    "county_names = np.array([\n",
    "    county_dict.get((state, county), 'Unknown County')\n",
    "    for state, county in zip(state_abbrs, county_codes)\n",
    "])"
   ]
  },
  {
   "cell_type": "code",
   "execution_count": null,
   "id": "b14085c1",
   "metadata": {},
   "outputs": [],
   "source": [
    "#new dataset that includes the county name \n",
    "us_natality_with_county = np.column_stack((us_natality2004, county_names))\n"
   ]
  },
  {
   "cell_type": "markdown",
   "id": "1941f28d",
   "metadata": {},
   "source": [
    "## Air Quality Dataset"
   ]
  },
  {
   "cell_type": "code",
   "execution_count": 12,
   "id": "902f4212",
   "metadata": {},
   "outputs": [
    {
     "name": "stdout",
     "output_type": "stream",
     "text": [
      "     State   County  Year  Days with AQI  Good Days  Moderate Days  \\\n",
      "0  Alabama  Baldwin  2004            271        158             98   \n",
      "1  Alabama  Barbour  2004             49         11             37   \n",
      "2  Alabama     Clay  2004            283        167            112   \n",
      "3  Alabama  Colbert  2004            276        178             98   \n",
      "4  Alabama   DeKalb  2004            361        228            126   \n",
      "\n",
      "   Unhealthy for Sensitive Groups Days  Unhealthy Days  Very Unhealthy Days  \\\n",
      "0                                   15               0                    0   \n",
      "1                                    1               0                    0   \n",
      "2                                    4               0                    0   \n",
      "3                                    0               0                    0   \n",
      "4                                    7               0                    0   \n",
      "\n",
      "   Hazardous Days  Max AQI  90th Percentile AQI  Median AQI  Days CO  \\\n",
      "0               0      143                   85          46        0   \n",
      "1               0      106                   74          54        0   \n",
      "2               0      129                   77          47        0   \n",
      "3               0       93                   67          45        0   \n",
      "4               0      115                   74          44        0   \n",
      "\n",
      "   Days NO2  Days Ozone  Days PM2.5  Days PM10  \n",
      "0         0         185          86          0  \n",
      "1         0           0          49          0  \n",
      "2         0         185          98          0  \n",
      "3         0         180          96          0  \n",
      "4         0         271          90          0  \n"
     ]
    }
   ],
   "source": [
    "air_quality_by_county = pd.read_csv('annual_aqi_by_county_2004.csv')\n",
    "\n",
    "print(air_quality_by_county.head())"
   ]
  },
  {
   "cell_type": "code",
   "execution_count": 13,
   "id": "4193bce4",
   "metadata": {},
   "outputs": [
    {
     "name": "stdout",
     "output_type": "stream",
     "text": [
      "(4118907, 337)\n",
      "(1121, 18)\n"
     ]
    }
   ],
   "source": [
    "# Figuring out how big these files are \n",
    "print(us_natality2004.shape)\n",
    "print(air_quality_by_county.shape)"
   ]
  },
  {
   "cell_type": "markdown",
   "id": "61cb1a94",
   "metadata": {},
   "source": [
    "Some useful column codes for health conditions of interest:\n",
    "\n",
    "2004 Important codes:\n",
    "\n",
    "- URF_ANEMIA: Anemia \n",
    "- URF_PHYPER: Pregnancy Associated Hypertension\n",
    "- URF_ECLAM: Eclampsia\n",
    "- GESTREC3: Combined Gestation Recode 3 (preterm or not)\n",
    "- ESTGEST: Obstetric/Clinical Gestation Est (should be removed if predicting preterm)\n",
    "- DBWT: Birth Weight – Detail in Grams (should remove if predicting low birth weight)\n",
    "- BWTR4: Birth Weight Recode 4 (convenient categories)"
   ]
  },
  {
   "cell_type": "code",
   "execution_count": 14,
   "id": "8658b087",
   "metadata": {},
   "outputs": [],
   "source": [
    "exclude_cols = ['revision', 'recwt', 'dob_yy', 'xostate', 'bfacil', 'mage_impflg', 'mage_repflg', 'mbcntry', 'xmrstate', 'restatus', \n",
    "                'mbrace', 'mracerec', 'mraceimp', 'umhisp', 'mar_imp', 'meduc', 'fagerpt_flg', 'fagecomb', 'fagerec11', 'fbrace', \n",
    "                'fraceimp', 'ufhisp', 'lbo_rec', 'tbo_rec', 'dllb_mm', 'dllb_yy', 'precare', 'precare_rec',  'mpcb_rec6', 'mpcb_rec5',\n",
    "                'previs_rec', 'apncu', 'wtgain_rec', 'dfpc_imp', 'cig_1', 'cig_2', 'cig_3',  'cig_rec6', 'cig_rec', 'alcohol', 'drinks_rec', \n",
    "                'rf_diab', 'rf_gest', 'rf_phyp','rf_ghyp','rf_eclam', 'rf_ppterm', 'rf_ppoutc','rf_cesar', 'rf_cesarn',\n",
    "                'op_cerv', 'op_tocol', 'op_ecvs', 'op_ecvf',  'on_ruptr', 'on_precip', 'on_prol', 'ld_indl', 'ld_augm', 'ld_nvpr',\n",
    "                'ld_ster', 'ld_anti', 'ld_chor', 'ld_mecs', 'ld_fint', 'ld_anes',  'me_attf', 'me_attv', 'me_pres', 'me_rout', 'me_trial',\n",
    "                'ume_vag', 'ume_vbac', 'ume_primc', 'ume_repec', 'ume_forcep', 'ume_vac', 'apgar5r', 'imp_plur', 'imp_sex',  'dlmp_mm',\n",
    "                'dlmp_dd', 'dlmp_yy', 'combgest', 'gestrec10',  'obgest_flg', 'gest_imp', 'bwtr12',  'ab_aven1', 'ab_aven6', 'ab_nicu',\n",
    "                'ab_surf', 'ab_anti', 'ab_seiz', 'ab_binj', 'ca_anen', 'ca_mnsb', 'ca_cchd', 'ca_cdh', 'ca_omph', 'ca_gast', 'ca_limb',\n",
    "                'ca_cleft', 'ca_clpal', 'ca_down', 'ca_disor', 'ca_hypo',  'f_morigin', 'f_forigin', 'f_meduc', 'f_clinest', 'f_apgar5',\n",
    "                'f_tobaco', 'f_med', 'f_wtgain', 'f_alcol', 'f_api','f_tobac','f_mpcb','f_mpcb_u', 'f_urf_anemia', 'f_urf_cardiac',\n",
    "                'f_urf_lung', 'f_urf_diabetes', 'f_urf_herpes', 'f_urf_hydra', 'f_urf_hemo', 'f_urf_chyper', 'f_urf_phyper', 'f_urf_eclamp',\n",
    "                'f_urf_incervix', 'f_urf_pre4000', 'f_urf_preterm', 'f_urf_renal', 'f_urf_rh', 'f_urf_uterine', 'f_urf_othermr', \n",
    "                'f_uob_amnio', 'f_uob_monitor', 'f_uob_induct', 'f_uob_stimul', 'f_uob_tocol', 'f_uob_ultras', 'f_uob_otherob', \n",
    "                'f_uld_febrile', 'f_uld_meconium', 'f_uld_rupture', 'f_uld_abruptio', 'f_uld_preplace', 'f_uld_excebld', 'f_uld_seizure',\n",
    "                'f_uld_precip', 'f_uld_prolg', 'f_uld_dysfunc', 'f_uld_breech', 'f_uld_cephalo', 'f_uld_cord', 'f_uld_anest', 'f_uld_distr',\n",
    "                'f_uld_other', 'f_u_vag', 'f_u_vbac', 'f_u_primc', 'f_u_repec', 'f_u_forcep', 'f_u_vac', 'f_uab_anemia', 'f_uab_injury',\n",
    "                'f_uab_alcosyn', 'f_uab_hyaline', 'f_uab_meconsyn', 'f_uab_venl30', 'f_uab_ven30m', 'f_uab_seiz', 'f_uab_otherab', \n",
    "                'f_uca_anen', 'f_uca_spina', 'f_uca_hydro',  'f_uca_microce', 'f_uca_nervous', 'f_uca_heart', 'f_uca_circul', 'f_uca_rectal',\n",
    "                'f_uca_tracheo', 'f_uca_omphalo', 'f_uca_gastro', 'f_uca_genital', 'f_uca_renalag', 'f_uca_urogen', 'f_uca_cleftlp',\n",
    "                'f_uca_adactyl', 'f_uca_club', 'f_uca_hernia', 'f_uca_musculo', 'f_uca_downs', 'f_uca_chromo', 'f_uca_othrcon']\n",
    "\n",
    "#include_cols = []\n",
    "\n",
    "col_names = ['revision',\n",
    " 'recwt',\n",
    " 'dob_yy',\n",
    " 'dob_mm',\n",
    " 'dob_wk', # eh not sure\n",
    " 'ostate',\n",
    " 'xostate', # this makes NYC its own state - how do we feel - i took out\n",
    " 'ocntyfips',\n",
    " 'ocntypop',\n",
    " 'bfacil', #10\n",
    " 'ubfacil',\n",
    " 'bfacil3',\n",
    " 'mage_impflg', # blank \n",
    " 'mage_repflg', # blank\n",
    " 'mager',\n",
    " 'mager14',\n",
    " 'mager9',\n",
    " 'mbcntry', # blank, 18\n",
    " 'umbstate',\n",
    " 'mbstate_rec',\n",
    " 'xmrstate', # agin making NYC own state - i think take out\n",
    " 'mrstate',\n",
    " 'mrcntyfips',\n",
    " 'mrcityfips',\n",
    " 'cmsa',\n",
    " 'msa',\n",
    " 'msa_pop',\n",
    " 'rcnty_pop',\n",
    " 'rcity_pop',\n",
    " 'metrores',\n",
    " 'rectype',\n",
    " 'restatus',\n",
    " 'mbrace', # blank , 33\n",
    " 'mrace',\n",
    " 'mracerec',\n",
    " 'mraceimp', #36 blank\n",
    " 'umhisp',\n",
    " 'mracehisp',\n",
    " 'mar',\n",
    " 'mar_imp', #40 blank\n",
    " 'meduc', # 41 blank\n",
    " 'dmeduc',\n",
    " 'meduc_rec',\n",
    " 'fagerpt_flg', # 44 blank\n",
    " 'fagerpt',\n",
    " 'fagecomb', #46 blank\n",
    " 'ufagecomb',\n",
    " 'fagerec11',\n",
    " 'fbrace', #49 blank\n",
    " 'fraceimp', # 50 blank\n",
    " 'fracerec',\n",
    " 'ufhisp',\n",
    " 'fracehisp',\n",
    " 'frace',\n",
    " 'priorlive',\n",
    " 'priordead',\n",
    " 'priorterm',\n",
    " 'lbo',\n",
    " 'lbo_rec',\n",
    " 'tbo',\n",
    " 'tbo_rec',\n",
    " 'dllb_mm', # 62 thru\n",
    " 'dllb_yy',\n",
    " 'precare',\n",
    " 'precare_rec', # 65\n",
    " 'mpcb',\n",
    " 'mpcb_rec6',\n",
    " 'mpcb_rec5',\n",
    " 'uprevis',\n",
    " 'previs_rec',\n",
    " 'apncu', # 71\n",
    " 'wtgain',\n",
    " 'wtgain_rec',\n",
    " 'u_apncu',\n",
    " 'dfpc_imp', #75 thru\n",
    " 'cig_1',\n",
    " 'cig_2',\n",
    " 'cig_3', # 78\n",
    " 'tobuse',\n",
    " 'cigs',\n",
    " 'cig_rec6',\n",
    " 'cig_rec', #82\n",
    " 'alcohol',\n",
    " 'drinks',\n",
    " 'drinks_rec',\n",
    " 'rf_diab', #86 thru\n",
    " 'rf_gest',\n",
    " 'rf_phyp',\n",
    " 'rf_ghyp',\n",
    " 'rf_eclam',\n",
    " 'rf_ppterm',\n",
    " 'rf_ppoutc',\n",
    " 'rf_cesar',\n",
    " 'rf_cesarn', # end94\n",
    " 'urf_anemia',\n",
    " 'urf_card',\n",
    " 'urf_lung',\n",
    " 'urf_diab',\n",
    " 'urf_gen',\n",
    " 'urf_hydra',\n",
    " 'urf_hemo',\n",
    " 'urf_chyper',\n",
    " 'urf_phyper',\n",
    " 'urf_eclam',\n",
    " 'urf_incerv',\n",
    " 'urf_pre4000',\n",
    " 'urf_preterm',\n",
    " 'urf_renal',\n",
    " 'urf_rh',\n",
    " 'urf_uterine',\n",
    " 'urf_other',\n",
    " 'op_cerv', #112 thur\n",
    " 'op_tocol',\n",
    " 'op_ecvs',\n",
    " 'op_ecvf', #115\n",
    " 'uop_amnio',\n",
    " 'uop_monit',\n",
    " 'uop_induc',\n",
    " 'uop_stiml',\n",
    " 'uop_tocol',\n",
    " 'uop_ultra',\n",
    " 'uop_other',\n",
    " 'on_ruptr', #123 thru\n",
    " 'on_precip',\n",
    " 'on_prol',\n",
    " 'ld_indl',\n",
    " 'ld_augm',\n",
    " 'ld_nvpr',\n",
    " 'ld_ster',\n",
    " 'ld_anti',\n",
    " 'ld_chor',\n",
    " 'ld_mecs',\n",
    " 'ld_fint',\n",
    " 'ld_anes', #134\n",
    " 'uld_febr',\n",
    " 'uld_meco',\n",
    " 'uld_ruptr',\n",
    " 'uld_abrup',\n",
    " 'uld_prepla',\n",
    " 'uld_excbl',\n",
    " 'uld_seiz',\n",
    " 'uld_precip',\n",
    " 'uld_prolg',\n",
    " 'uld_dysfn',\n",
    " 'uld_breech',\n",
    " 'uld_cephal',\n",
    " 'uld_cord',\n",
    " 'uld_anest',\n",
    " 'uld_distr',\n",
    " 'uld_other',\n",
    " 'me_attf', #151 thru\n",
    " 'me_attv',\n",
    " 'me_pres',\n",
    " 'me_rout',\n",
    " 'me_trial', #155\n",
    " 'ume_vag',\n",
    " 'ume_vbac',\n",
    " 'ume_primc',\n",
    " 'ume_repec',\n",
    " 'ume_forcep',\n",
    " 'ume_vac',\n",
    " 'dmeth_rec',\n",
    " 'attend',\n",
    " 'apgar5',\n",
    " 'apgar5r',\n",
    " 'dplural',\n",
    " 'imp_plur', #167\n",
    " 'sex',\n",
    " 'imp_sex', #169\n",
    " 'dlmp_mm',\n",
    " 'dlmp_dd',\n",
    " 'dlmp_yy',\n",
    " 'estgest',\n",
    " 'combgest',\n",
    " 'gestrec10',\n",
    " 'gestrec3',\n",
    " 'obgest_flg', #177\n",
    " 'gest_imp', #178\n",
    " 'dbwt',\n",
    " 'bwtr12',\n",
    " 'bwtr4',\n",
    " 'ab_aven1', #182 thru\n",
    " 'ab_aven6',\n",
    " 'ab_nicu',\n",
    " 'ab_surf',\n",
    " 'ab_anti',\n",
    " 'ab_seiz',\n",
    " 'ab_binj', #188\n",
    " 'uab_anem',\n",
    " 'uab_injury',\n",
    " 'uab_alcoh',\n",
    " 'uab_hyal',\n",
    " 'uab_mecon',\n",
    " 'uab_venl30',\n",
    " 'uab_ven30m',\n",
    " 'uab_nseiz',\n",
    " 'uab_other',\n",
    " 'ca_anen', #198 to 209\n",
    " 'ca_mnsb',\n",
    " 'ca_cchd',\n",
    " 'ca_cdh',\n",
    " 'ca_omph',\n",
    " 'ca_gast',\n",
    " 'ca_limb',\n",
    " 'ca_cleft',\n",
    " 'ca_clpal',\n",
    " 'ca_down',\n",
    " 'ca_disor',\n",
    " 'ca_hypo', #209\n",
    " 'uca_anen', # from here to next marker I could be persuaded to take out\n",
    " 'uca_spina',\n",
    " 'uca_hydro',\n",
    " 'uca_micro',\n",
    " 'uca_nerv',\n",
    " 'uca_heart',\n",
    " 'uca_circ',\n",
    " 'uca_rectal',\n",
    " 'uca_trach',\n",
    " 'uca_ompha',\n",
    " 'uca_gastro',\n",
    " 'uca_genital',\n",
    " 'uca_renal',\n",
    " 'uca_urogen',\n",
    " 'uca_cleftlp',\n",
    " 'uca_adactyly',\n",
    " 'uca_clubft',\n",
    " 'uca_hernia',\n",
    " 'uca_muscu',\n",
    " 'uca_downs',\n",
    " 'uca_chromo',\n",
    " 'uca_other', # end of newborn congenital anomalies\n",
    " 'f_morigin', # start of flag reporting\n",
    " 'f_forigin',\n",
    " 'f_meduc',\n",
    " 'f_clinest',\n",
    " 'f_apgar5',\n",
    " 'f_tobaco',\n",
    " 'f_med',\n",
    " 'f_wtgain',\n",
    " 'f_alcol',\n",
    " 'f_api',\n",
    " 'f_tobac',\n",
    " 'f_mpcb',\n",
    " 'f_mpcb_u',\n",
    " 'f_urf_anemia',\n",
    " 'f_urf_cardiac',\n",
    " 'f_urf_lung',\n",
    " 'f_urf_diabetes',\n",
    " 'f_urf_herpes',\n",
    " 'f_urf_hydra',\n",
    " 'f_urf_hemo',\n",
    " 'f_urf_chyper',\n",
    " 'f_urf_phyper',\n",
    " 'f_urf_eclamp',\n",
    " 'f_urf_incervix',\n",
    " 'f_urf_pre4000',\n",
    " 'f_urf_preterm',\n",
    " 'f_urf_renal',\n",
    " 'f_urf_rh',\n",
    " 'f_urf_uterine',\n",
    " 'f_urf_othermr',\n",
    " 'f_uob_amnio',\n",
    " 'f_uob_monitor',\n",
    " 'f_uob_induct',\n",
    " 'f_uob_stimul',\n",
    " 'f_uob_tocol',\n",
    " 'f_uob_ultras',\n",
    " 'f_uob_otherob',\n",
    " 'f_uld_febrile',\n",
    " 'f_uld_meconium',\n",
    " 'f_uld_rupture',\n",
    " 'f_uld_abruptio',\n",
    " 'f_uld_preplace',\n",
    " 'f_uld_excebld',\n",
    " 'f_uld_seizure',\n",
    " 'f_uld_precip',\n",
    " 'f_uld_prolg',\n",
    " 'f_uld_dysfunc',\n",
    " 'f_uld_breech',\n",
    " 'f_uld_cephalo',\n",
    " 'f_uld_cord',\n",
    " 'f_uld_anest',\n",
    " 'f_uld_distr',\n",
    " 'f_uld_other',\n",
    " 'f_u_vag',\n",
    " 'f_u_vbac',\n",
    " 'f_u_primc',\n",
    " 'f_u_repec',\n",
    " 'f_u_forcep',\n",
    " 'f_u_vac',\n",
    " 'f_uab_anemia',\n",
    " 'f_uab_injury',\n",
    " 'f_uab_alcosyn',\n",
    " 'f_uab_hyaline',\n",
    " 'f_uab_meconsyn',\n",
    " 'f_uab_venl30',\n",
    " 'f_uab_ven30m',\n",
    " 'f_uab_seiz',\n",
    " 'f_uab_otherab',\n",
    " 'f_uca_anen',\n",
    " 'f_uca_spina',\n",
    " 'f_uca_hydro',\n",
    " 'f_uca_microce',\n",
    " 'f_uca_nervous',\n",
    " 'f_uca_heart',\n",
    " 'f_uca_circul',\n",
    " 'f_uca_rectal',\n",
    " 'f_uca_tracheo',\n",
    " 'f_uca_omphalo',\n",
    " 'f_uca_gastro',\n",
    " 'f_uca_genital',\n",
    " 'f_uca_renalag',\n",
    " 'f_uca_urogen',\n",
    " 'f_uca_cleftlp',\n",
    " 'f_uca_adactyl',\n",
    " 'f_uca_club',\n",
    " 'f_uca_hernia',\n",
    " 'f_uca_musculo',\n",
    " 'f_uca_downs',\n",
    " 'f_uca_chromo',\n",
    " 'f_uca_othrcon', #end flag reporting\n",
    " 'mrace1e', # here down blank (final 16)\n",
    " 'mrace2e',\n",
    " 'mrace3e',\n",
    " 'mrace4e',\n",
    " 'mrace5e',\n",
    " 'mrace6e',\n",
    " 'mrace7e',\n",
    " 'mrace8e',\n",
    " 'frace1e',\n",
    " 'frace2e',\n",
    " 'frace3e',\n",
    " 'frace4e',\n",
    " 'frace5e',\n",
    " 'frace6e',\n",
    " 'frace7e',\n",
    " 'frace8e']"
   ]
  },
  {
   "cell_type": "markdown",
   "id": "cf3ebe8b",
   "metadata": {},
   "source": [
    "### To Do\n",
    "\n",
    "- exclude those columns listed\n",
    "- try again to associate county names to codes, perhaps on the AQI dataset\n",
    "- switch columns to integer format\n"
   ]
  },
  {
   "cell_type": "markdown",
   "id": "6b5fb8e5",
   "metadata": {},
   "source": [
    "### Get rid of those columns"
   ]
  },
  {
   "cell_type": "code",
   "execution_count": null,
   "id": "33b5dda5",
   "metadata": {},
   "outputs": [],
   "source": [
    "# Get indices of columns to keep\n",
    "cols_to_keep = [i for i, name in enumerate(col_names) if name not in exclude_cols]\n",
    "\n",
    "# Filter the array\n",
    "filtered_natality = us_natality2004[:, cols_to_keep]\n",
    "\n",
    "# Optionally, get the new column names too\n",
    "filtered_col_names = [col_names[i] for i in cols_to_keep]"
   ]
  },
  {
   "cell_type": "code",
   "execution_count": null,
   "id": "97a7da97",
   "metadata": {},
   "outputs": [],
   "source": [
    "print(filtered_natality[1])"
   ]
  }
 ],
 "metadata": {
  "kernelspec": {
   "display_name": "erdos_summer_2025",
   "language": "python",
   "name": "python3"
  },
  "language_info": {
   "codemirror_mode": {
    "name": "ipython",
    "version": 3
   },
   "file_extension": ".py",
   "mimetype": "text/x-python",
   "name": "python",
   "nbconvert_exporter": "python",
   "pygments_lexer": "ipython3",
   "version": "3.12.10"
  }
 },
 "nbformat": 4,
 "nbformat_minor": 5
}
