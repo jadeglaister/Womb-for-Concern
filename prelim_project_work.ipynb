{
 "cells": [
  {
   "cell_type": "code",
   "execution_count": 1,
   "id": "98766a46",
   "metadata": {},
   "outputs": [],
   "source": [
    "import numpy as np\n",
    "import matplotlib.pyplot as plt\n",
    "import pandas as pd\n",
    "import csv"
   ]
  },
  {
   "cell_type": "markdown",
   "id": "6779b60a",
   "metadata": {},
   "source": [
    "## Load the file as npz for size reasons"
   ]
  },
  {
   "cell_type": "code",
   "execution_count": 2,
   "id": "38244cda",
   "metadata": {},
   "outputs": [],
   "source": [
    "natality = np.load('mat2004_data_file.npz', allow_pickle=True)"
   ]
  },
  {
   "cell_type": "code",
   "execution_count": 3,
   "id": "5ad46a77",
   "metadata": {},
   "outputs": [
    {
     "name": "stdout",
     "output_type": "stream",
     "text": [
      "['X']\n"
     ]
    }
   ],
   "source": [
    "print(natality.files)\n",
    "\n",
    "us_natality2004 = natality['X']"
   ]
  },
  {
   "cell_type": "code",
   "execution_count": 4,
   "id": "4ac6294b",
   "metadata": {},
   "outputs": [
    {
     "name": "stdout",
     "output_type": "stream",
     "text": [
      "<class 'numpy.ndarray'>\n",
      "[['S' '1' '2004' ... '' '' '']\n",
      " ['S' '1' '2004' ... '' '' '']\n",
      " ['S' '1' '2004' ... '' '' '']\n",
      " ['S' '1' '2004' ... '' '' '']\n",
      " ['S' '1' '2004' ... '' '' '']]\n"
     ]
    }
   ],
   "source": [
    "# Display the first few rows of the data frame\n",
    "print(type(us_natality2004))\n",
    "print(us_natality2004[:5])"
   ]
  },
  {
   "cell_type": "code",
   "execution_count": 6,
   "id": "a3bbc355",
   "metadata": {},
   "outputs": [
    {
     "name": "stdout",
     "output_type": "stream",
     "text": [
      "(4118907, 337)\n"
     ]
    }
   ],
   "source": [
    "print(us_natality2004.shape)"
   ]
  },
  {
   "cell_type": "code",
   "execution_count": 27,
   "id": "7cbb4472",
   "metadata": {},
   "outputs": [
    {
     "name": "stdout",
     "output_type": "stream",
     "text": [
      "['20' '999' '20' ... '47' '81' '81']\n"
     ]
    }
   ],
   "source": [
    "# OCNTYFIPS is column index 7 which identifies the county in the state\n",
    "# column index 7 gives county code within state\n",
    "# column index 5 goves the state where the birth occurred - OSTATE\n",
    "# to get full identifier, need state and county code\n",
    "\n",
    "print(us_natality2004[:,7])"
   ]
  },
  {
   "cell_type": "markdown",
   "metadata": {},
   "source": [
    "## Code to associate a county name to a state abbreviation and county code"
   ]
  },
  {
   "cell_type": "code",
   "execution_count": null,
   "id": "51ce3b6b",
   "metadata": {},
   "outputs": [],
   "source": [
    "state_col = us_natality2004[:, 5]  # column with state abbreviation\n",
    "county_col = us_natality2004[:, 7]  # column with county code\n",
    "\n",
    "# Make the county codes zero-padded strings\n",
    "county_codes = np.char.zfill(county_col.astype(str), 3)\n",
    "state_abbrs = np.char.upper(state_col.astype(str))"
   ]
  },
  {
   "cell_type": "code",
   "execution_count": 14,
   "id": "4aacaada",
   "metadata": {},
   "outputs": [],
   "source": [
    "# Load full county FIPS-to-name mapping\n",
    "county_df = pd.read_csv(\n",
    "    \"https://raw.githubusercontent.com/kjhealy/fips-codes/master/county_fips_master.csv\",\n",
    "    dtype={\"state_fips\": str, \"county_fips\": str, \"fips\": str},\n",
    "    encoding=\"iso-8859-1\"\n",
    ")"
   ]
  },
  {
   "cell_type": "code",
   "execution_count": 21,
   "id": "1dc251b5",
   "metadata": {},
   "outputs": [],
   "source": [
    "# Load the FIPS-to-county-name map\n",
    "fips_df = pd.read_csv(\n",
    "    \"https://raw.githubusercontent.com/kjhealy/fips-codes/master/county_fips_master.csv\",\n",
    "    #dtype={'state': str, 'county_fips': str},\n",
    "    #usecols=['state', 'county_fips', 'county_name'],\n",
    "    dtype={'state': str, 'fips': str, 'county': str},\n",
    "    usecols=['state', 'fips', 'county'],  \n",
    "    encoding=\"iso-8859-1\"\n",
    ")\n",
    "\n",
    "fips_df = fips_df.rename(columns={'fips': 'county_fips', 'county': 'county_name'})"
   ]
  },
  {
   "cell_type": "code",
   "execution_count": 22,
   "metadata": {},
   "outputs": [
    {
     "ename": "AttributeError",
     "evalue": "'float' object has no attribute 'upper'",
     "output_type": "error",
     "traceback": [
      "\u001b[0;31m---------------------------------------------------------------------------\u001b[0m",
      "\u001b[0;31mAttributeError\u001b[0m                            Traceback (most recent call last)",
      "Cell \u001b[0;32mIn[22], line 3\u001b[0m\n\u001b[1;32m      1\u001b[0m \u001b[38;5;66;03m# make a dictionary for (state_abbr, county_code) -> county_name\u001b[39;00m\n\u001b[1;32m      2\u001b[0m county_dict \u001b[38;5;241m=\u001b[39m {\n\u001b[0;32m----> 3\u001b[0m     (row\u001b[38;5;241m.\u001b[39mstate\u001b[38;5;241m.\u001b[39mupper(), row\u001b[38;5;241m.\u001b[39mcounty_fips\u001b[38;5;241m.\u001b[39mzfill(\u001b[38;5;241m3\u001b[39m)): row\u001b[38;5;241m.\u001b[39mcounty_name\n\u001b[1;32m      4\u001b[0m     \u001b[38;5;28;01mfor\u001b[39;00m row \u001b[38;5;129;01min\u001b[39;00m county_df\u001b[38;5;241m.\u001b[39mitertuples()\n\u001b[1;32m      5\u001b[0m }\n",
      "\u001b[0;31mAttributeError\u001b[0m: 'float' object has no attribute 'upper'"
     ]
    }
   ],
   "source": [
    "# make a dictionary for (state_abbr, county_code) -> county_name\n",
    "county_dict = {\n",
    "    (row.state.upper(), row.county_fips.zfill(3)): row.county_name\n",
    "    for row in county_df.itertuples()\n",
    "}\n"
   ]
  },
  {
   "cell_type": "code",
   "execution_count": null,
   "id": "6913a22e",
   "metadata": {},
   "outputs": [],
   "source": [
    "# Vectorized lookup using list\n",
    "county_names = np.array([\n",
    "    county_dict.get((state, county), 'Unknown County')\n",
    "    for state, county in zip(state_abbrs, county_codes)\n",
    "])"
   ]
  },
  {
   "cell_type": "code",
   "execution_count": null,
   "id": "b14085c1",
   "metadata": {},
   "outputs": [],
   "source": [
    "#new dataset that includes the county name \n",
    "us_natality_with_county = np.column_stack((us_natality2004, county_names))\n"
   ]
  },
  {
   "cell_type": "code",
   "execution_count": 17,
   "id": "902f4212",
   "metadata": {},
   "outputs": [
    {
     "name": "stdout",
     "output_type": "stream",
     "text": [
      "     State   County  Year  Days with AQI  Good Days  Moderate Days  \\\n",
      "0  Alabama  Baldwin  2004            271        158             98   \n",
      "1  Alabama  Barbour  2004             49         11             37   \n",
      "2  Alabama     Clay  2004            283        167            112   \n",
      "3  Alabama  Colbert  2004            276        178             98   \n",
      "4  Alabama   DeKalb  2004            361        228            126   \n",
      "\n",
      "   Unhealthy for Sensitive Groups Days  Unhealthy Days  Very Unhealthy Days  \\\n",
      "0                                   15               0                    0   \n",
      "1                                    1               0                    0   \n",
      "2                                    4               0                    0   \n",
      "3                                    0               0                    0   \n",
      "4                                    7               0                    0   \n",
      "\n",
      "   Hazardous Days  Max AQI  90th Percentile AQI  Median AQI  Days CO  \\\n",
      "0               0      143                   85          46        0   \n",
      "1               0      106                   74          54        0   \n",
      "2               0      129                   77          47        0   \n",
      "3               0       93                   67          45        0   \n",
      "4               0      115                   74          44        0   \n",
      "\n",
      "   Days NO2  Days Ozone  Days PM2.5  Days PM10  \n",
      "0         0         185          86          0  \n",
      "1         0           0          49          0  \n",
      "2         0         185          98          0  \n",
      "3         0         180          96          0  \n",
      "4         0         271          90          0  \n"
     ]
    }
   ],
   "source": [
    "air_quality_by_county = pd.read_csv('annual_aqi_by_county_2004.csv')\n",
    "\n",
    "print(air_quality_by_county.head())"
   ]
  },
  {
   "cell_type": "code",
   "execution_count": 18,
   "id": "4193bce4",
   "metadata": {},
   "outputs": [
    {
     "name": "stdout",
     "output_type": "stream",
     "text": [
      "(4118907, 337)\n",
      "(1121, 18)\n"
     ]
    }
   ],
   "source": [
    "# Figuring out how big these files are \n",
    "print(us_natality2004.shape)\n",
    "print(air_quality_by_county.shape)"
   ]
  },
  {
   "cell_type": "markdown",
   "id": "61cb1a94",
   "metadata": {},
   "source": [
    "Some useful column codes for health conditions of interest:\n",
    "\n",
    "Gestational Hypertension: RF_GHYPE\n",
    "Hypertension Eclampsia: RF_EHYPE\n",
    "Delivery Method Recode: DMETH_REC\n",
    "Combined Gestation Recode 3: GESTREC3 (preterm or not)\n",
    "Birth Weight – Detail in Grams: DBWT (9999 means not reported)"
   ]
  }
 ],
 "metadata": {
  "kernelspec": {
   "display_name": "base",
   "language": "python",
   "name": "python3"
  },
  "language_info": {
   "codemirror_mode": {
    "name": "ipython",
    "version": 3
   },
   "file_extension": ".py",
   "mimetype": "text/x-python",
   "name": "python",
   "nbconvert_exporter": "python",
   "pygments_lexer": "ipython3",
   "version": "3.12.4"
  }
 },
 "nbformat": 4,
 "nbformat_minor": 5
}
