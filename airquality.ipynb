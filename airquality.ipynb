{
 "cells": [
  {
   "cell_type": "markdown",
   "id": "9167e427",
   "metadata": {},
   "source": [
    "# Import libraries"
   ]
  },
  {
   "cell_type": "code",
   "execution_count": 2,
   "id": "3913b09c",
   "metadata": {},
   "outputs": [],
   "source": [
    "import numpy as np\n",
    "import matplotlib.pyplot as plt\n",
    "import pandas as pd\n",
    "import csv"
   ]
  },
  {
   "cell_type": "markdown",
   "id": "9c2972d9",
   "metadata": {},
   "source": [
    "# Import 2003 and 2004 data"
   ]
  },
  {
   "cell_type": "code",
   "execution_count": 3,
   "id": "743a78b9",
   "metadata": {},
   "outputs": [],
   "source": [
    "df_aqi2003 = pd.read_csv(\"/Users/jadeg/Documents/UW/Spring/Erdos/annual_aqi_by_county_2003.csv\")  \n",
    "df_aqi2004 = pd.read_csv(\"/Users/jadeg/Documents/UW/Spring/Erdos/annual_aqi_by_county_2004.csv\")"
   ]
  },
  {
   "cell_type": "code",
   "execution_count": 8,
   "id": "a584b1f4",
   "metadata": {},
   "outputs": [
    {
     "name": "stdout",
     "output_type": "stream",
     "text": [
      "1136\n",
      "1121\n"
     ]
    }
   ],
   "source": [
    "print(len(df_aqi2003))\n",
    "print(len(df_aqi2004))"
   ]
  },
  {
   "cell_type": "markdown",
   "id": "5f2efa4f",
   "metadata": {},
   "source": [
    "# Remove unwanted columns from both data"
   ]
  },
  {
   "cell_type": "code",
   "execution_count": 11,
   "id": "7867e937",
   "metadata": {},
   "outputs": [],
   "source": [
    "exclude_cols = ['Year'] \n",
    "exclude_set = set(exclude_cols)\n",
    "\n",
    "df_aqi2003_filt = df_aqi2003.drop(columns=[col for col in df_aqi2003.columns if col in exclude_set])\n",
    "df_aqi2004_filt = df_aqi2004.drop(columns=[col for col in df_aqi2004.columns if col in exclude_set])\n",
    "\n",
    "# Define key columns\n",
    "key_cols = ['State', 'County']\n",
    "\n",
    "# Merge to keep only common rows by State and County\n",
    "df_aqi2003_filt = df_aqi2003_filt.merge(df_aqi2004_filt [key_cols], on=key_cols, how='inner')\n",
    "df_aqi2004_filt = df_aqi2004_filt .merge(df_aqi2003_filt[key_cols], on=key_cols, how='inner')"
   ]
  },
  {
   "cell_type": "code",
   "execution_count": 12,
   "id": "6f456956",
   "metadata": {},
   "outputs": [
    {
     "name": "stdout",
     "output_type": "stream",
     "text": [
      "1102\n",
      "1102\n"
     ]
    }
   ],
   "source": [
    "print(len(df_aqi2003_filt))\n",
    "print(len(df_aqi2004_filt))"
   ]
  },
  {
   "cell_type": "markdown",
   "id": "52f6bc48",
   "metadata": {},
   "source": [
    "# Average Leftover data"
   ]
  },
  {
   "cell_type": "code",
   "execution_count": 19,
   "id": "df1c5930",
   "metadata": {},
   "outputs": [],
   "source": [
    "numeric_cols = [col for col in df_aqi2003_filt.columns if col not in key_cols]\n",
    "\n",
    "df1_numeric = df_aqi2003_filt[numeric_cols].apply(pd.to_numeric, errors='coerce')\n",
    "df2_numeric = df_aqi2004_filt[numeric_cols].apply(pd.to_numeric, errors='coerce')\n",
    "\n",
    "df_avg_end = (df1_numeric + df2_numeric) / 2"
   ]
  },
  {
   "cell_type": "code",
   "execution_count": 21,
   "id": "769be513",
   "metadata": {},
   "outputs": [
    {
     "name": "stdout",
     "output_type": "stream",
     "text": [
      "        State      County  Days with AQI  Good Days  Moderate Days  \\\n",
      "0     Alabama     Baldwin          274.5      162.0           99.0   \n",
      "1     Alabama     Barbour           32.0        9.0           22.5   \n",
      "2     Alabama        Clay          278.5      161.0          110.5   \n",
      "3     Alabama     Colbert          296.5      187.5          105.5   \n",
      "4     Alabama      DeKalb          361.0      218.0          133.0   \n",
      "...       ...         ...            ...        ...            ...   \n",
      "1097  Wyoming      Platte           58.0       55.0            3.0   \n",
      "1098  Wyoming    Sheridan          237.5      172.0           63.0   \n",
      "1099  Wyoming    Sublette          335.5      255.0           79.0   \n",
      "1100  Wyoming  Sweetwater          365.5      304.0           55.0   \n",
      "1101  Wyoming       Teton          342.5      276.0           66.0   \n",
      "\n",
      "      Unhealthy for Sensitive Groups Days  Unhealthy Days  \\\n",
      "0                                    13.0             0.5   \n",
      "1                                     0.5             0.0   \n",
      "2                                     6.5             0.5   \n",
      "3                                     3.0             0.5   \n",
      "4                                     9.0             1.0   \n",
      "...                                   ...             ...   \n",
      "1097                                  0.0             0.0   \n",
      "1098                                  2.5             0.0   \n",
      "1099                                  1.5             0.0   \n",
      "1100                                  5.0             1.0   \n",
      "1101                                  0.5             0.0   \n",
      "\n",
      "      Very Unhealthy Days  Hazardous Days  Max AQI  90th Percentile AQI  \\\n",
      "0                     0.0             0.0    158.5                 81.0   \n",
      "1                     0.0             0.0     95.5                 72.5   \n",
      "2                     0.0             0.0    144.0                 77.0   \n",
      "3                     0.0             0.0    122.0                 69.5   \n",
      "4                     0.0             0.0    139.5                 77.0   \n",
      "...                   ...             ...      ...                  ...   \n",
      "1097                  0.0             0.0     78.0                 37.5   \n",
      "1098                  0.0             0.0    104.5                 62.5   \n",
      "1099                  0.0             0.0     97.5                 66.0   \n",
      "1100                  0.0             0.5    266.5                 56.0   \n",
      "1101                  0.0             0.0     97.5                 59.0   \n",
      "\n",
      "      Median AQI  Days CO  Days NO2  Days Ozone  Days PM2.5  Days PM10  \n",
      "0           45.5      0.0       0.0       181.5        93.0        0.0  \n",
      "1           52.5      0.0       0.0         0.0        32.0        0.0  \n",
      "2           47.0      0.0       0.0       183.0        95.5        0.0  \n",
      "3           45.5      0.0       3.5       198.5        94.5        0.0  \n",
      "4           45.5      0.0       0.0       269.0        92.0        0.0  \n",
      "...          ...      ...       ...         ...         ...        ...  \n",
      "1097        14.0      0.0       0.0         0.0         0.0       58.0  \n",
      "1098        35.5      0.0       0.0         0.0       103.0      134.5  \n",
      "1099        44.0      0.0       4.0       316.0        15.5        0.0  \n",
      "1100        24.0      0.0       0.0         0.0         0.0      365.5  \n",
      "1101        43.5      4.0       0.0       311.0        26.0        1.5  \n",
      "\n",
      "[1102 rows x 17 columns]\n"
     ]
    }
   ],
   "source": [
    "df_avg_end\n",
    "df_avg = pd.concat([df_aqi2003_filt[key_cols], df_avg_end], axis=1)\n",
    "print(df_avg)"
   ]
  },
  {
   "cell_type": "markdown",
   "id": "11d97095",
   "metadata": {},
   "source": [
    "# Replace state name with abbreviation"
   ]
  },
  {
   "cell_type": "code",
   "execution_count": 22,
   "id": "b06a6153",
   "metadata": {},
   "outputs": [],
   "source": [
    "# US state name to abbreviation dictionary\n",
    "state_to_abbrev = {\n",
    "    'Alabama': 'AL', 'Alaska': 'AK', 'Arizona': 'AZ', 'Arkansas': 'AR',\n",
    "    'California': 'CA', 'Colorado': 'CO', 'Connecticut': 'CT', 'Delaware': 'DE',\n",
    "    'Florida': 'FL', 'Georgia': 'GA', 'Hawaii': 'HI', 'Idaho': 'ID',\n",
    "    'Illinois': 'IL', 'Indiana': 'IN', 'Iowa': 'IA', 'Kansas': 'KS',\n",
    "    'Kentucky': 'KY', 'Louisiana': 'LA', 'Maine': 'ME', 'Maryland': 'MD',\n",
    "    'Massachusetts': 'MA', 'Michigan': 'MI', 'Minnesota': 'MN', 'Mississippi': 'MS',\n",
    "    'Missouri': 'MO', 'Montana': 'MT', 'Nebraska': 'NE', 'Nevada': 'NV',\n",
    "    'New Hampshire': 'NH', 'New Jersey': 'NJ', 'New Mexico': 'NM',\n",
    "    'New York': 'NY', 'North Carolina': 'NC', 'North Dakota': 'ND',\n",
    "    'Ohio': 'OH', 'Oklahoma': 'OK', 'Oregon': 'OR', 'Pennsylvania': 'PA',\n",
    "    'Rhode Island': 'RI', 'South Carolina': 'SC', 'South Dakota': 'SD',\n",
    "    'Tennessee': 'TN', 'Texas': 'TX', 'Utah': 'UT', 'Vermont': 'VT',\n",
    "    'Virginia': 'VA', 'Washington': 'WA', 'West Virginia': 'WV',\n",
    "    'Wisconsin': 'WI', 'Wyoming': 'WY',\n",
    "}\n",
    "\n",
    "# Replace state names in the \"State\" column with their abbreviations\n",
    "df_avg['State'] = df_avg['State'].map(state_to_abbrev)"
   ]
  },
  {
   "cell_type": "markdown",
   "id": "6ac0aae6",
   "metadata": {},
   "source": [
    "# save data as .npz"
   ]
  },
  {
   "cell_type": "code",
   "execution_count": 23,
   "id": "163c2ba2",
   "metadata": {},
   "outputs": [],
   "source": [
    "np.savez_compressed('pp_airquality.npz', X=df_avg)"
   ]
  }
 ],
 "metadata": {
  "kernelspec": {
   "display_name": "base",
   "language": "python",
   "name": "python3"
  },
  "language_info": {
   "codemirror_mode": {
    "name": "ipython",
    "version": 3
   },
   "file_extension": ".py",
   "mimetype": "text/x-python",
   "name": "python",
   "nbconvert_exporter": "python",
   "pygments_lexer": "ipython3",
   "version": "3.11.5"
  }
 },
 "nbformat": 4,
 "nbformat_minor": 5
}
